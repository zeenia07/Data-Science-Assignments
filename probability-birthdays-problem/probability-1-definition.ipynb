{
 "cells": [
  {
   "cell_type": "markdown",
   "metadata": {
    "button": false,
    "new_sheet": false,
    "run_control": {
     "read_only": false
    }
   },
   "source": [
    "<div style=\"text-align: right\">INFO 6105 Data Sci Engineering Methods and Tools, Week 4 Lecture 1</div>\n",
    "<div style=\"text-align: right\">Dino Konstantopoulos, 7 February 2022, with material from Peter Norvig and Cam Davidson-Pilon</div>\n",
    "\n",
    "Please unzip all images from each week's `images.zip` on blackboard onto your `C:/Users/<username>/ipynb.images` folder (create it if it doesn't exist). If there's a `data.zip` file on blackboard, unzip its contents onto your `C:/Users/<username>/data` folder (create it if it doesn't exist).\n",
    "\n",
    "![Bayes](https://upload.wikimedia.org/wikipedia/commons/d/d4/Thomas_Bayes.gif)\n",
    "<center><a href=\"https://en.wikipedia.org/wiki/Thomas_Bayes\">Rev. Thomas Bayes</a><br>1701-1761\n",
    "</center>\n",
    "\n",
    "# Probability\n",
    "\n",
    "In 1814, Pierre-Simon, marquis de Laplace (23 March 1749 – 5 March 1827), a French scholar whose work was important to the development of mathematics, statistics, physics and astronomy, [wrote](https://en.wikipedia.org/wiki/Classical_definition_of_probability):\n",
    "\n",
    ">*Probability ... is thus simply a fraction whose numerator is the number of favorable cases and whose denominator is the number of all the cases possible ... when nothing leads us to expect that any one of these cases should occur more than any other.*\n",
    "\n",
    "\n",
    "Here's some vocabulary:\n",
    "\n",
    "- **[Experiment](https://en.wikipedia.org/wiki/Experiment_(probability_theory%29)):**\n",
    "  An occurrence with an uncertain outcome that we can observe.\n",
    "  <br>*For example, rolling a die.*\n",
    "- **[Outcome](https://en.wikipedia.org/wiki/Outcome_(probability%29)):**\n",
    "  The result of an experiment; one particular state of the world. What Laplace calls a \"case.\"\n",
    "  <br>*For example:* `4`.\n",
    "- **[Sample Space](https://en.wikipedia.org/wiki/Sample_space)):**\n",
    "  The set of all possible outcomes for the experiment. \n",
    "  <br>*For example,* `{1, 2, 3, 4, 5, 6}`.\n",
    "- **[Event](https://en.wikipedia.org/wiki/Event_(probability_theory%29)):**\n",
    "  A subset of possible outcomes that together have some property we are interested in.\n",
    "  <br>*For example, the event \"even die roll\" is the set of outcomes* `{2, 4, 6}`. \n",
    "  \n",
    "And here's a little game: What's the probability that someone in this classroom shares your birthday? \n",
    "Each person can have your birthday with probability 1/365. There are n−1 people other than yourself, so the probability that someone shares your birthday is ...\n",
    "\n",
    "Now, what is the probability that *two* students in this classroom have the *same* birthday? Which one of the two you think is higher?\n"
   ]
  },
  {
   "cell_type": "markdown",
   "metadata": {},
   "source": [
    "What is the probability that someone in this classroom shares your birthday? \n",
    "\n",
    "Each person can have your birthday with probability 1/365. There are n-1 people other than yourself, so the probability that someone shares your birthday is (n-1)/ 365.\n",
    "\n",
    "What is the probability that two students in this classroom have the same birthday? \n",
    "\n"
   ]
  },
  {
   "cell_type": "code",
   "execution_count": 3,
   "metadata": {},
   "outputs": [
    {
     "data": {
      "text/plain": [
       "0.11694817771107768"
      ]
     },
     "execution_count": 3,
     "metadata": {},
     "output_type": "execute_result"
    }
   ],
   "source": [
    "def prob_two_students_have_same_birthday():\n",
    "    return 1-((365*364*363*362*361*360*359*358*357*356)/(365**10))\n",
    "prob_two_students_have_same_birthday()"
   ]
  },
  {
   "cell_type": "code",
   "execution_count": 7,
   "metadata": {},
   "outputs": [
    {
     "data": {
      "text/plain": [
       "0.891231809817949"
      ]
     },
     "execution_count": 7,
     "metadata": {},
     "output_type": "execute_result"
    }
   ],
   "source": [
    "from functools import reduce\n",
    "import operator \n",
    "\n",
    "def prob_two_students_have_same_birthday(n):\n",
    "    l=[n for n in range(365, 365-n,-1)]   ##list created \n",
    "    return 1- (reduce(operator.mul, l, 1) / (365 ** n))\n",
    "\n",
    "prob_two_students_have_same_birthday(40)"
   ]
  },
  {
   "cell_type": "code",
   "execution_count": 8,
   "metadata": {},
   "outputs": [
    {
     "data": {
      "text/plain": [
       "0.10684931506849316"
      ]
     },
     "execution_count": 8,
     "metadata": {},
     "output_type": "execute_result"
    }
   ],
   "source": [
    "def prob_shares_bday(n):   #one person shares birthday\n",
    "    return (n-1)/365\n",
    "\n",
    "prob_shares_bday(40)"
   ]
  },
  {
   "cell_type": "code",
   "execution_count": null,
   "metadata": {},
   "outputs": [],
   "source": []
  }
 ],
 "metadata": {
  "kernelspec": {
   "display_name": "Python 3 (ipykernel)",
   "language": "python",
   "name": "python3"
  },
  "language_info": {
   "codemirror_mode": {
    "name": "ipython",
    "version": 3
   },
   "file_extension": ".py",
   "mimetype": "text/x-python",
   "name": "python",
   "nbconvert_exporter": "python",
   "pygments_lexer": "ipython3",
   "version": "3.9.7"
  }
 },
 "nbformat": 4,
 "nbformat_minor": 1
}
