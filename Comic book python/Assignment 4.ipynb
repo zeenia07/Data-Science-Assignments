{
 "cells": [
  {
   "cell_type": "markdown",
   "id": "22899e8e",
   "metadata": {},
   "source": [
    "## Group 12 _ Assignment 4"
   ]
  },
  {
   "cell_type": "code",
   "execution_count": 39,
   "id": "73fbc2a5",
   "metadata": {},
   "outputs": [],
   "source": [
    "# Setting up the root directory\n",
    "import os\n",
    "root_dir =r'C:\\Users\\zeeni\\OneDrive\\Documents\\NEU\\Sem 2\\DSEM\\Assignments\\Assignment4_ZeeniaSingla_Team12\\Assignment4'"
   ]
  },
  {
   "cell_type": "markdown",
   "id": "9ee49871",
   "metadata": {},
   "source": [
    "### Reading Data from data.xlsx\n",
    "we are using pandas for doing so"
   ]
  },
  {
   "cell_type": "code",
   "execution_count": 40,
   "id": "57e71cac",
   "metadata": {},
   "outputs": [
    {
     "data": {
      "text/html": [
       "<div>\n",
       "<style scoped>\n",
       "    .dataframe tbody tr th:only-of-type {\n",
       "        vertical-align: middle;\n",
       "    }\n",
       "\n",
       "    .dataframe tbody tr th {\n",
       "        vertical-align: top;\n",
       "    }\n",
       "\n",
       "    .dataframe thead th {\n",
       "        text-align: right;\n",
       "    }\n",
       "</style>\n",
       "<table border=\"1\" class=\"dataframe\">\n",
       "  <thead>\n",
       "    <tr style=\"text-align: right;\">\n",
       "      <th></th>\n",
       "      <th>Image</th>\n",
       "      <th>Language 1</th>\n",
       "      <th>Language 2</th>\n",
       "    </tr>\n",
       "  </thead>\n",
       "  <tbody>\n",
       "    <tr>\n",
       "      <th>0</th>\n",
       "      <td>1.JPEG</td>\n",
       "      <td>Is all I want to\\nfoster in real \\nworld while...</td>\n",
       "      <td>क्या मैं अपने विचारों\\nको पथपाकर वास्तविक \\nदु...</td>\n",
       "    </tr>\n",
       "    <tr>\n",
       "      <th>1</th>\n",
       "      <td>2.JPEG</td>\n",
       "      <td>Do I know \\nwhat I want \\nfrom life or \\nam I ...</td>\n",
       "      <td>क्या मुझे पता है कि \\nमुझे जीवन से क्या \\nचाहि...</td>\n",
       "    </tr>\n",
       "    <tr>\n",
       "      <th>2</th>\n",
       "      <td>3.JPEG</td>\n",
       "      <td>Flying amidst the\\nclouds in the \\nmiddle of n...</td>\n",
       "      <td>कहीं भी बीच में \\nबादलों के बीच \\nउड़ते हुए, म...</td>\n",
       "    </tr>\n",
       "    <tr>\n",
       "      <th>3</th>\n",
       "      <td>4.JPEG</td>\n",
       "      <td>Boston: \\nWhile embarking on this \\nnew chapte...</td>\n",
       "      <td>बोस्टन:\\nजीवन के इस \\nनए अध्याय \\nकी शुरुआत \\n...</td>\n",
       "    </tr>\n",
       "    <tr>\n",
       "      <th>4</th>\n",
       "      <td>5.JPEG</td>\n",
       "      <td>\\nLooking at the moon \\ningites my \\nthoughtf...</td>\n",
       "      <td>चाँद को देखकर मेरी\\nविचारशील राज्य।\\nमुझे इसमे...</td>\n",
       "    </tr>\n",
       "  </tbody>\n",
       "</table>\n",
       "</div>"
      ],
      "text/plain": [
       "    Image                                         Language 1  \\\n",
       "0  1.JPEG  Is all I want to\\nfoster in real \\nworld while...   \n",
       "1  2.JPEG  Do I know \\nwhat I want \\nfrom life or \\nam I ...   \n",
       "2  3.JPEG  Flying amidst the\\nclouds in the \\nmiddle of n...   \n",
       "3  4.JPEG  Boston: \\nWhile embarking on this \\nnew chapte...   \n",
       "4  5.JPEG   \\nLooking at the moon \\ningites my \\nthoughtf...   \n",
       "\n",
       "                                          Language 2  \n",
       "0  क्या मैं अपने विचारों\\nको पथपाकर वास्तविक \\nदु...  \n",
       "1  क्या मुझे पता है कि \\nमुझे जीवन से क्या \\nचाहि...  \n",
       "2  कहीं भी बीच में \\nबादलों के बीच \\nउड़ते हुए, म...  \n",
       "3  बोस्टन:\\nजीवन के इस \\nनए अध्याय \\nकी शुरुआत \\n...  \n",
       "4  चाँद को देखकर मेरी\\nविचारशील राज्य।\\nमुझे इसमे...  "
      ]
     },
     "execution_count": 40,
     "metadata": {},
     "output_type": "execute_result"
    }
   ],
   "source": [
    "import pandas as pd\n",
    "\n",
    "os.chdir(root_dir)\n",
    "dataset = \"data.xlsx\"\n",
    "data = pd.read_excel(dataset)\n",
    "data.head() # reading data from excel sheel"
   ]
  },
  {
   "cell_type": "markdown",
   "id": "cb32c93c",
   "metadata": {},
   "source": [
    "### Cartoonization of the images\n",
    "we are running a loop with images from the root_dir and saving them in new folder (\"cartoons\")"
   ]
  },
  {
   "cell_type": "code",
   "execution_count": 41,
   "id": "9b961b7a",
   "metadata": {},
   "outputs": [
    {
     "name": "stdout",
     "output_type": "stream",
     "text": [
      "Done\n"
     ]
    }
   ],
   "source": [
    "from PIL import Image, ImageFont, ImageDraw, ImageOps\n",
    "import cv2 \n",
    "from IPython.display import display\n",
    "from PIL import Image as pili, ImageDraw as pild, ImageFont as pilf \n",
    "\n",
    "os.chdir(root_dir)\n",
    "\n",
    "# with the OpenCV function imread(), the order of colors is BGR (blue, green, red)\n",
    "for myImage in data.Image:\n",
    "    img = cv2.imread(myImage)\n",
    "\n",
    "    # In Pillow, the order of colors is assumed to be RGB (red, green, blue).\n",
    "    # As we are using Image.fromarray() of PIL module, we need to convert BGR to RGB.\n",
    "    img = cv2.cvtColor(img, cv2.COLOR_BGR2RGB) # Converting BGR to RGB\n",
    "\n",
    "    def imgcompress_mem(path_in, k):\n",
    "        img = cv2.imread(path_in, cv2.IMREAD_UNCHANGED)\n",
    "\n",
    "        # set the ratio of resized image\n",
    "        width = int((img.shape[1])/k)\n",
    "        height = int((img.shape[0])/k)\n",
    "        #width = 400\n",
    "        #height = 400\n",
    "\n",
    "        # resize the image by resize() function of openCV library\n",
    "        return cv2.resize(img, (width, height), interpolation=cv2.INTER_AREA)\n",
    "\n",
    "    def cartoonizebl_mem(path_in, k, blur, line):\n",
    "\n",
    "        imgc = imgcompress_mem(path_in, k)\n",
    "        #imgc_pil = cv2.cvtColor(imgc, cv2.COLOR_BGR2RGB) # Converting BGR to RGB\n",
    "        #display(Image.fromarray(imgc_pil))\n",
    "\n",
    "        line_size = line\n",
    "        blur_value = blur\n",
    "        #imgc = cv2.imread(path_out, cv2.IMREAD_UNCHANGED)\n",
    "        gray = cv2.cvtColor(imgc, cv2.COLOR_BGR2GRAY)\n",
    "        gray_blur = cv2.medianBlur(gray, blur_value)\n",
    "        bigedges = cv2.adaptiveThreshold(gray_blur, 255, cv2.ADAPTIVE_THRESH_MEAN_C, cv2.THRESH_BINARY, line_size, blur_value)\n",
    "        bigedges_pil = cv2.cvtColor(bigedges, cv2.COLOR_BGR2RGB) # Converting BGR to RGB\n",
    "        #display(Image.fromarray(bigedges_pil))\n",
    "\n",
    "        return cv2.bitwise_and(imgc, imgc, mask=bigedges)\n",
    "\n",
    "    cblimg = cartoonizebl_mem(myImage, 1, 5, 13)\n",
    "    # cblimg_pil = cv2.cvtColor(cblimg, cv2.COLOR_BGR2RGB) # Converting BGR to RGB\n",
    "    img = cblimg\n",
    "\n",
    "    final_path = os.path.join(root_dir, 'cartoons')\n",
    "    if not os.path.exists(final_path):\n",
    "        os.mkdir(final_path)\n",
    "    cv2.imwrite(os.path.join(final_path, myImage),img)\n",
    "print(\"Done\")"
   ]
  },
  {
   "cell_type": "markdown",
   "id": "d985289f",
   "metadata": {},
   "source": [
    "### Adding Borders to the images\n",
    "we are re-writing the images in cartoons folder with white borders"
   ]
  },
  {
   "cell_type": "code",
   "execution_count": 42,
   "id": "f7af387d",
   "metadata": {},
   "outputs": [
    {
     "name": "stdout",
     "output_type": "stream",
     "text": [
      "Done\n"
     ]
    }
   ],
   "source": [
    "# Adding borders\n",
    "from PIL import Image as pili, ImageOps as piliops\n",
    "\n",
    "current_path = os.path.join(root_dir, \"cartoons\")\n",
    "if os.path.exists(current_path):\n",
    "    os.chdir(current_path) # setting current working directory\n",
    "    for myImage in data.Image:\n",
    "        piliops.expand(pili.open(myImage), border=(15,15),fill='white').save(os.path.join(current_path,myImage))\n",
    "    print(\"Done\")\n",
    "else:\n",
    "    print(\"Run previous block first!!\")"
   ]
  },
  {
   "cell_type": "markdown",
   "id": "e47a41f4",
   "metadata": {},
   "source": [
    "### Adding subtitles / Dialogs\n",
    "##### Input for the Language option is required for generating with particular language\n",
    "Default will generate with English subtitles\n",
    "The newly generated images will be saved in new folder (\"cartoon_sub\")"
   ]
  },
  {
   "cell_type": "code",
   "execution_count": 43,
   "id": "dd9e5a71",
   "metadata": {},
   "outputs": [
    {
     "name": "stdout",
     "output_type": "stream",
     "text": [
      "Select a language: press 1 for language1 and 2 for language2 2\n",
      "Done\n"
     ]
    }
   ],
   "source": [
    "from PIL import Image as pili, ImageDraw as pild, ImageFont as pilf\n",
    "from IPython.display import display\n",
    "import textwrap\n",
    "\n",
    "# print(os.getcwd())\n",
    "font_path = os.path.join(root_dir, \"language1.ttf\")\n",
    "lan_select = input(\"Select a language: press 1 for language1 and 2 for language2 \")\n",
    "if int(lan_select) == 2:\n",
    "    font_path = os.path.join(root_dir, \"language2.ttf\")\n",
    "subtitles_images_path = os.path.join(root_dir, \"cartoon_sub\")\n",
    "\n",
    "TINT_COLOR = (0, 0, 0)  # Black\n",
    "TRANSPARENCY = .45  # Degree of transparency, 0-100%\n",
    "OPACITY = int(255 * TRANSPARENCY)\n",
    "\n",
    "from PIL import Image, ImageFont, ImageDraw\n",
    "\n",
    "for a in range(len(data.Image)):\n",
    "    img = pili.open(data.Image[a]).convert('RGBA')\n",
    "    \n",
    "    overlay = pili.new('RGBA', img.size, TINT_COLOR+(0,))\n",
    "    draw = pild.Draw(overlay)\n",
    "    font = pilf.truetype(font_path,40)\n",
    "    #x, y = (img.width - 510, img.height-100)\n",
    "    text = data[\"Language 1\"][a]\n",
    "    if int(lan_select) == 2:\n",
    "        text = data[\"Language 2\"][a]\n",
    "    w, h = font.getsize(text)\n",
    "    num_lines = len(text.split('\\n'))\n",
    "    x, y = 15, img.height - 15 - (num_lines-0.1*num_lines)*h\n",
    "#     text = textwrap.fill(text=text, width=50)\n",
    "    #draw.rectangle((x, y, x + w, y + h), fill='black')\n",
    "    #draw.rectangle((x, y, x + w, y + 4*h), fill=TINT_COLOR+(OPACITY,))\n",
    "    draw.rectangle((x, y, x + img.width - 30, y + (num_lines-0.1*num_lines)*h), fill=TINT_COLOR+(OPACITY,))\n",
    "    draw.text((x, y), text, fill=(209, 239, 8), font=font)\n",
    "    # Alpha composite these two images together to obtain the desired result.\n",
    "    img = pili.alpha_composite(img, overlay)\n",
    "    img = img.convert(\"RGB\") # Remove alpha for saving in jpg format.\n",
    "    if not os.path.exists(subtitles_images_path):\n",
    "        os.mkdir(subtitles_images_path)\n",
    "    img.save(os.path.join(subtitles_images_path, data.Image[a]))\n",
    "print(\"Done\")"
   ]
  },
  {
   "cell_type": "markdown",
   "id": "ac7b46a3",
   "metadata": {},
   "source": [
    "### Horizontal Image Stacking\n",
    "##### Input for operating system is required for error free working (1 for mac and 2 for windows)\n",
    "Random number of images between 2 to 5 are stacked together to create a horizontal image\n",
    "These images will be saved in a new folder (\"horizontal_stack\")\n",
    "\n",
    "Before generating these files, we are making sure to remove that kind of folder if it exists and recreate it"
   ]
  },
  {
   "cell_type": "code",
   "execution_count": 44,
   "id": "59ce7654",
   "metadata": {},
   "outputs": [
    {
     "name": "stdout",
     "output_type": "stream",
     "text": [
      "Are you using Mac ? Press 1 for yes and 2 for no : 2\n",
      "Done\n"
     ]
    }
   ],
   "source": [
    "import numpy as np\n",
    "import PIL\n",
    "from IPython.display import Image\n",
    "from IPython.display import display\n",
    "from PIL import Image as pili, ImageOps as piliops\n",
    "import shutil\n",
    "\n",
    "horizontal_stack_path = os.path.join(root_dir,\"horizontal_stack\")\n",
    "\n",
    "if os.path.exists(horizontal_stack_path):\n",
    "    shutil.rmtree(horizontal_stack_path, ignore_errors=True)\n",
    "\n",
    "mac_or_pc = input(\"Are you using Mac ? Press 1 for yes and 2 for no : \")\n",
    "\n",
    "\n",
    "def gridImage(imgList, d_directory):\n",
    "    dim = imgList[0]\n",
    "    if int(mac_or_pc) == 2:\n",
    "        dim = imgList[0].split(\"\\\\\")\n",
    "    else :\n",
    "        dim = imgList[0].split(\"/\")\n",
    "    imgNumber = dim[len(dim)-1]\n",
    "    imgs    = [ PIL.Image.open(i) for i in imgList ]\n",
    "    # pick the image which is the smallest, and resize the others to match it (can be arbitrary image shape here)\n",
    "    \n",
    "    min_shape = sorted( [(np.sum(i.size), i.size ) for i in imgs])[0][1]\n",
    "#     print(\"Array size \"+np.asarray( i.resize(min_shape) ) for i in imgs)\n",
    "    imgs_comb = np.hstack( [np.asarray( i.resize(min_shape) ) for i in imgs ] )\n",
    "\n",
    "    # save that beautiful picture\n",
    "    imgs_comb = PIL.Image.fromarray(imgs_comb)\n",
    "    if not os.path.exists(horizontal_stack_path):\n",
    "        os.mkdir(horizontal_stack_path)\n",
    "    imgs_comb.save( os.path.join(horizontal_stack_path, imgNumber) )\n",
    "    \n",
    "# To get the random number of images per line (3 to 5) \n",
    "os.chdir(subtitles_images_path)\n",
    "# os.getcwd()\n",
    "list_im = [ (os.path.join(subtitles_images_path, file)) for file in data.Image]\n",
    "while 0 < len(list_im):\n",
    "    lines = 0\n",
    "#     print(\"new page!\")\n",
    "    num_cols = old_num_cols = 0\n",
    "    while lines < 4 and 0 < len(list_im):\n",
    "        lines += 1\n",
    "        while num_cols == old_num_cols:\n",
    "            num_cols = np.random.randint(2, 5)\n",
    "        old_num_cols = num_cols\n",
    "        window = list_im[:num_cols]\n",
    "#         print(window)\n",
    "        gridImage(window, subtitles_images_path)\n",
    "#         print((print (i) for i in window))\n",
    "        list_im = list_im[num_cols:]\n",
    "print(\"Done\")"
   ]
  },
  {
   "cell_type": "markdown",
   "id": "12367657",
   "metadata": {},
   "source": [
    "### Vertical Image stacking\n",
    "We are trying to stack atleast five horizontally stacked pictures to a single vertical stack\n",
    "These files will be saved in new folder(vertical_stack)"
   ]
  },
  {
   "cell_type": "code",
   "execution_count": 45,
   "id": "465a2584",
   "metadata": {},
   "outputs": [
    {
     "name": "stdout",
     "output_type": "stream",
     "text": [
      "Done\n"
     ]
    }
   ],
   "source": [
    "# os.getcwd()\n",
    "import shutil\n",
    "os.chdir(horizontal_stack_path)\n",
    "import re\n",
    "def tryint(s):\n",
    "    try:\n",
    "        return int(s)\n",
    "    except:\n",
    "        return s\n",
    "    \n",
    "def alphanum_key(s):\n",
    "    \"\"\" Turn a string into a list of string and number chunks.\n",
    "        \"z23a\" -> [\"z\", 23, \"a\"]\n",
    "    \"\"\"\n",
    "    return [ tryint(c) for c in re.split('([0-9]+)', s) ]\n",
    "\n",
    "def sort_images(l):\n",
    "    \"\"\" Sort the given list in the way that humans expect.\n",
    "    \"\"\"\n",
    "    l.sort(key=alphanum_key)\n",
    "    return l\n",
    "\n",
    "vertical_stack_path = os.path.join(root_dir,\"vertical_stack\")\n",
    "\n",
    "if os.path.exists(vertical_stack_path):\n",
    "    shutil.rmtree(vertical_stack_path, ignore_errors=True)\n",
    "\n",
    "horimages = []\n",
    "for i in os.listdir(horizontal_stack_path):\n",
    "        horimages.append(i)\n",
    "horimages = sort_images(horimages)\n",
    "# print(horimages)\n",
    "        \n",
    "list1 = horimages[0:5]\n",
    "list2 = horimages[5:10]\n",
    "list3 = horimages[10:15]\n",
    "list4 = horimages[15:20]\n",
    "list5 = horimages[20:25]\n",
    "list6 = horimages[25:30]\n",
    "\n",
    "def verticalImage(imgList, directory):\n",
    "#     print(imgList)\n",
    "    imgNumber = imgList[0]\n",
    "    imgs    = [ PIL.Image.open(i) for i in imgList ]\n",
    "\n",
    "    # pick the image which is the smallest, and resize the others to match it (can be arbitrary image shape here)\n",
    "    min_shape = sorted( [(np.sum(i.size), i.size ) for i in imgs])[0][1]\n",
    "    imgs_comb = np.vstack( [np.asarray( i.resize(min_shape) ) for i in imgs ] )\n",
    "\n",
    "    # save that beautiful picture\n",
    "    imgs_comb = PIL.Image.fromarray(imgs_comb)\n",
    "    imgs_comb.save(os.path.join(vertical_stack_path, imgNumber))\n",
    "    \n",
    "if not os.path.exists(vertical_stack_path):\n",
    "    os.mkdir(vertical_stack_path)\n",
    "if len(list1) > 0:\n",
    "    verticalImage(list1, horizontal_stack_path)\n",
    "if len(list2) > 0:\n",
    "    verticalImage(list2, horizontal_stack_path)\n",
    "if len(list3) > 0:\n",
    "    verticalImage(list3, horizontal_stack_path)\n",
    "if len(list4) > 0:\n",
    "    verticalImage(list4, horizontal_stack_path)\n",
    "if len(list5) > 0:\n",
    "    verticalImage(list5, horizontal_stack_path)\n",
    "if len(list6) > 0:\n",
    "    verticalImage(list6, horizontal_stack_path)\n",
    "print(\"Done\")"
   ]
  },
  {
   "cell_type": "markdown",
   "id": "6eba08be",
   "metadata": {},
   "source": [
    "### Finally the PDF\n",
    "we are creating pdf file with name \"MY_COMIC.PDF\" and storing them in PDF folder from the existing vertical_stack images"
   ]
  },
  {
   "cell_type": "code",
   "execution_count": 46,
   "id": "65d2ab57",
   "metadata": {},
   "outputs": [
    {
     "name": "stdout",
     "output_type": "stream",
     "text": [
      "done! PDF file is saved in pdf folder in the root directory\n"
     ]
    }
   ],
   "source": [
    "os.chdir(vertical_stack_path)\n",
    "pdf_path = os.path.join(root_dir,\"pdf\")\n",
    "from PIL import Image\n",
    "from fpdf import FPDF\n",
    "\n",
    "#pdf = FPDF()\n",
    "cover = Image.open(os.path.join(vertical_stack_path,\"1.JPEG\")) # hardcoded\n",
    "width, height = cover.size\n",
    "pdf = FPDF(unit = \"pt\", format = [width, height])\n",
    "    \n",
    "# imagelist is the list with all image filenames\n",
    "imagelist = sort_images(os.listdir(vertical_stack_path)) # sorted image list\n",
    "# print(imagelist)\n",
    "\n",
    "for image in imagelist:\n",
    "    pdf.add_page()\n",
    "    pdf.image(image, 0, 0, width, height)\n",
    "    if not os.path.exists(pdf_path):\n",
    "        os.mkdir(pdf_path)\n",
    "pdf.output(os.path.join(pdf_path, \"MY_COMIC.PDF\"), \"F\")\n",
    "print(\"done! PDF file is saved in pdf folder in the root directory\")"
   ]
  },
  {
   "cell_type": "markdown",
   "id": "c8ce874a",
   "metadata": {},
   "source": [
    "## THANK YOU!!"
   ]
  }
 ],
 "metadata": {
  "kernelspec": {
   "display_name": "Python 3 (ipykernel)",
   "language": "python",
   "name": "python3"
  },
  "language_info": {
   "codemirror_mode": {
    "name": "ipython",
    "version": 3
   },
   "file_extension": ".py",
   "mimetype": "text/x-python",
   "name": "python",
   "nbconvert_exporter": "python",
   "pygments_lexer": "ipython3",
   "version": "3.9.7"
  }
 },
 "nbformat": 4,
 "nbformat_minor": 5
}
