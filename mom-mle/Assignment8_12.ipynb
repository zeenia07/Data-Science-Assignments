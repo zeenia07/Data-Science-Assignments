{
 "cells": [
  {
   "cell_type": "markdown",
   "metadata": {},
   "source": [
    "# Assignment Team 12 \n",
    "* Nithin Dornipadu\n",
    "* Zeenia Singla"
   ]
  },
  {
   "cell_type": "markdown",
   "metadata": {},
   "source": [
    "<div id=\"divCheckbox\" style=\"display: none;\">\n",
    "\"20102020\"[::-1]\n",
    "</div>"
   ]
  },
  {
   "cell_type": "code",
   "execution_count": 2,
   "metadata": {},
   "outputs": [],
   "source": [
    "import pandas as pd\n",
    "import numpy as np\n",
    "import matplotlib.pyplot as plt\n",
    "from matplotlib import pyplot\n",
    "%matplotlib inline\n",
    "from scipy.stats.distributions import norm"
   ]
  },
  {
   "cell_type": "code",
   "execution_count": 3,
   "metadata": {},
   "outputs": [],
   "source": [
    "df = pd.read_csv(\"GlobalLandTemperaturesByMajorCity.csv\")"
   ]
  },
  {
   "cell_type": "markdown",
   "metadata": {},
   "source": [
    "## Data Cleansing"
   ]
  },
  {
   "cell_type": "code",
   "execution_count": 4,
   "metadata": {},
   "outputs": [],
   "source": [
    "grouped_data = {}\n",
    "\n",
    "for name, group in df.groupby('City'):\n",
    "    group.fillna(value={'AverageTemperature': group.AverageTemperature.mean()}, inplace=True)\n",
    "    grouped_data[name] = group"
   ]
  },
  {
   "cell_type": "code",
   "execution_count": 5,
   "metadata": {},
   "outputs": [],
   "source": [
    "df_Abidjan_new = grouped_data['Abidjan']"
   ]
  },
  {
   "cell_type": "code",
   "execution_count": 49,
   "metadata": {},
   "outputs": [
    {
     "data": {
      "image/png": "[encoded data removed]",
      "text/plain": [
       "<Figure size 432x288 with 1 Axes>"
      ]
     },
     "metadata": {
      "needs_background": "light"
     },
     "output_type": "display_data"
    }
   ],
   "source": [
    "_ = df_Abidjan_new['AverageTemperature'].hist()\n",
    "plt.title('Average Temperature for Abidjan')\n",
    "plt.tight_layout()"
   ]
  },
  {
   "cell_type": "markdown",
   "metadata": {},
   "source": [
    "From the histogram plot for the city Abidjan, it is clearly evident that it is a **Normal Distribution**. The standard Normal Distribution has two parameters: **Mean**, **Standard Deviation**"
   ]
  },
  {
   "cell_type": "markdown",
   "metadata": {},
   "source": [
    "## Method of Moments"
   ]
  },
  {
   "cell_type": "code",
   "execution_count": 50,
   "metadata": {},
   "outputs": [
    {
     "name": "stdout",
     "output_type": "stream",
     "text": [
      "Calculated Mean and standard distribution : 26.163737197523997 & 1.3307820959794188 \n"
     ]
    }
   ],
   "source": [
    "# Calculating MOM \n",
    "\n",
    "mu = df_Abidjan_new['AverageTemperature'].mean()\n",
    "std = df_Abidjan_new['AverageTemperature'].std()\n",
    "print(\"Calculated Mean and standard distribution : %s & %s \" % (str(mu), str(std)))"
   ]
  },
  {
   "cell_type": "markdown",
   "metadata": {},
   "source": [
    "Then, use the `norm.pdf` function in `scipy.stats.distributions` to plot the distributions implied by the calculated alphas and betas. "
   ]
  },
  {
   "cell_type": "code",
   "execution_count": 7,
   "metadata": {},
   "outputs": [
    {
     "data": {
      "image/png": "[encoded data removed]",
      "text/plain": [
       "<Figure size 432x288 with 1 Axes>"
      ]
     },
     "metadata": {
      "needs_background": "light"
     },
     "output_type": "display_data"
    }
   ],
   "source": [
    "(counts, bins) = np.histogram(df_Abidjan_new['AverageTemperature'])\n",
    "\n",
    "x = np.linspace(df_Abidjan_new['AverageTemperature'].min(), df_Abidjan_new['AverageTemperature'].max(), num=1977)\n",
    "p = norm.pdf(x, mu, std) \n",
    "factor = 0.00056\n",
    "pyplot.hist(bins[:-1], bins, weights=factor*counts)\n",
    "plt.plot(x, p, linewidth=2) \n",
    "\n",
    "plt.title('Average Temperature for Abidjan')\n",
    "label = 'Mean = {0:.2f}\\nStd = {1:.2f}'.format(mu, std)\n",
    "plt.annotate(label, xy=(28, 0.2))\n",
    "pyplot.show()"
   ]
  },
  {
   "cell_type": "markdown",
   "metadata": {},
   "source": [
    "### Most likely parameters of the normal pdf used are: Mean and Standard Deviation"
   ]
  },
  {
   "cell_type": "markdown",
   "metadata": {},
   "source": [
    "### Probability of City Abidjan having given below Temperatures"
   ]
  },
  {
   "cell_type": "code",
   "execution_count": 8,
   "metadata": {},
   "outputs": [
    {
     "name": "stdout",
     "output_type": "stream",
     "text": [
      "Probability of Abidjan having temperature  20 : 6.584008079458226e-06\n",
      "Probability of Abidjan having temperature  21 : 0.00016121239890496864\n",
      "Probability of Abidjan having temperature  22 : 0.002244286642274848\n",
      "Probability of Abidjan having temperature  23 : 0.0177635600081096\n",
      "Probability of Abidjan having temperature  24 : 0.07993803879033426\n",
      "Probability of Abidjan having temperature  25 : 0.20452611518284608\n",
      "Probability of Abidjan having temperature  26 : 0.2975197828665393\n",
      "Probability of Abidjan having temperature  27 : 0.24606776588427187\n",
      "Probability of Abidjan having temperature  28 : 0.11570853706984785\n",
      "Probability of Abidjan having temperature  29 : 0.030934840277109913\n",
      "Probability of Abidjan having temperature  30 : 0.004702211421386021\n"
     ]
    }
   ],
   "source": [
    "avg_temp_test=list(range(20,31))\n",
    "\n",
    "for avg_temp_test in avg_temp_test:\n",
    "    mu = df_Abidjan_new['AverageTemperature'].mean()\n",
    "    std = df_Abidjan_new['AverageTemperature'].std()\n",
    "    print(\"Probability of Abidjan having temperature \", avg_temp_test, \":\", norm.pdf(avg_temp_test, mu, std))"
   ]
  },
  {
   "cell_type": "code",
   "execution_count": null,
   "metadata": {},
   "outputs": [],
   "source": []
  }
 ],
 "metadata": {
  "kernelspec": {
   "display_name": "Python 3 (ipykernel)",
   "language": "python",
   "name": "python3"
  },
  "language_info": {
   "codemirror_mode": {
    "name": "ipython",
    "version": 3
   },
   "file_extension": ".py",
   "mimetype": "text/x-python",
   "name": "python",
   "nbconvert_exporter": "python",
   "pygments_lexer": "ipython3",
   "version": "3.9.7"
  }
 },
 "nbformat": 4,
 "nbformat_minor": 4
}
