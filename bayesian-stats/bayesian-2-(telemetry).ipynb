{
 "cells": [
  {
   "cell_type": "markdown",
   "metadata": {},
   "source": [
    "<div style=\"text-align: right\">INFO 6105 Data Sci Engineering Methods and Tools, Lecture 8 Day 1</div>\n",
    "<div style=\"text-align: right\">Dino Konstantopoulos, 24 March 2022, with material from Peter Norvig and Chris Fonnesbeck</div>\n",
    "\n",
    "# Bayesian Statistical Analysis\n",
    "\n",
    "***Bayesian*** statistics is not just a particular statistical method. It is a *completely different, modern, and very successful paradigm* for doing statistical analysis. It is different from ***frequentist*** statistics.\n",
    "\n",
    "In frequentists statistics, model parameters are fixed and data varies. In Bayesian statistics, model parameters vary with every new row of data, evolving from *prior* paramters to *posterior* parameters, while data is never *truly* random.\n",
    "\n",
    "A Bayesian model is described by ***parameters*** and ***uncertainty*** in those parameters. The model is described as ***probability distributions***, which we had time to experiment with. Uncertainly in its parameters is *also* described as probability distributions. That is why you need a solid foundation in probability theory in data science.\n",
    "\n",
    "In the case of Big Data, we have so much data that we know **exactly** what the probability distributions may be. Uncertainties not really required. Frequentist statistics work great in these use cases, and neural models, too.\n",
    "\n",
    "Oftentimes however, there are conditions where **not enough data is available**, e.g. snowing with sun glare and white trucks. That is when accidents happen with autonomous vehicles!\n",
    "\n",
    "<br />\n",
    "<center>\n",
    "    <img src=\"ipynb.images/autonomous.png\" width=400 />\n",
    "</center>\n",
    "\n",
    "Run the cell below, we'll use it."
   ]
  },
  {
   "cell_type": "code",
   "execution_count": 2,
   "metadata": {},
   "outputs": [
    {
     "name": "stderr",
     "output_type": "stream",
     "text": [
      "d:\\Anaconda3.5.1\\lib\\site-packages\\statsmodels\\tools\\_testing.py:19: FutureWarning: pandas.util.testing is deprecated. Use the functions in the public API at pandas.testing instead.\n",
      "  import pandas.util.testing as tm\n"
     ]
    }
   ],
   "source": [
    "%matplotlib inline\n",
    "import numpy as np\n",
    "import pandas as pd\n",
    "import matplotlib.pylab as plt\n",
    "import seaborn as sns\n",
    "sns.set_context('notebook')\n",
    "\n",
    "RANDOM_SEED = 20090425"
   ]
  },
  {
   "cell_type": "markdown",
   "metadata": {},
   "source": [
    "## Mercedes trick new steering system\n",
    "\n",
    "Ok, let's do some ***real*** data science now: F1!\n",
    "\n",
    "Mercedes turned heads in 2020 with an ingenious moving steering system dubbed `DAS` by tech chief James Allison, short for '**Dual Axis Steering**'.\n",
    "\n",
    "The device appears to change the alignment (toe) of the front wheels. It is controlled by the driver by pulling and pushing on the steering column.\n",
    "\n",
    "Tech expert Mark Hughes says: \"*If the mechanism works as assumed, the effect of deploying the device will mean the tyres will be heated more evenly across their width as they run fully upright, but the benefits of toe-out can still be deployed into the corner. It will be of particular benefit on circuits with long straights*\".\n",
    "\n",
    "Read about it [here](formula1.com/en/latest/article.das-explained-what-we-know-so-far-about-mercedes-trick-new-steering-system.4vgDQ6cc20xUfhdZGT0ejB.html).\n",
    "\n",
    ">**Note**: Since the very first Formula 1 World Championship Grand Prix, teams have been trying to gain every tenth over their rivals they could, and that pursuit has led to some [pretty incredible innovations over the years](https://www.formula1.com/en/latest/video.top-10-cheeky-technical-innovations.6079386635001.html), so there are precedents for one particular outfit finding something that no one else has.\n",
    "\n",
    "Here's how the DAS would work:\n",
    "\n",
    "<br />\n",
    "<center>\n",
    "    <img src=\"ipynb.images/toe-in-out.gif\" width=400 />\n",
    "</center>\n",
    "\n",
    "The effects of running different types of toe on the front and rear wheels are different depending on whether the car is front, rear or four wheel drive.\n",
    "\n",
    "### Toe out on the front wheels of a front wheel drive train\n",
    "Running toe out on the front wheels of a front wheel drive car will increase the grip within the front tyres due to the increased slip angle in the tyre. This will increase the acceleration of the car due to the increased grip from the driven tyres. The tyre will also heat up faster due to the slip angle, meaning that the tyre will get to its most grippy point faster than if no toe was installed. However, running toe out will decrease the life of the tyre due to the increased stress on the rubber.\n",
    "The dynamic effects of toe out will give the car faster steering, meaning that the car turns in faster with less steering input from the driver, which is ideal for a tight, winding course with multiple direction changes, similar to Monaco GP. This increased response means that the high speed stability of the car is reduced and can feel twitchy in long fast corners.\n",
    "\n",
    "### Toe in on the front wheels of a front wheel drive train\n",
    "Running toe in on the front wheels of a front wheel drive car will again increase the grip within the front tyres due to the increased slip angle in the tyre. This increases the acceleration of the car due to the increased grip in the driven tyres. The tyre heats up faster due to the slip angle, which means the tyre gets to its most grippy point faster than if no toe was installed. However, running toe in will decrease the life of the tyre due to the increased stress on the rubber.\n",
    "The dynamic effect of toe in reduces the responsiveness of the steering. This means that the car requires a larger steering input from the driver for the car to change direction. This makes the car more stable at high speeds and makes the car feel planted through long fast corners. This set up is perfect for new drivers within motorsport or for drivers who do not have fast reaction times. This set up is perfect for race circuits similar to Silverstone.\n",
    "\n",
    "Bottom line: F1 drivers can increase turn performance during turns with toe-out, then increase tire life in straightaways with zero toe. For other configurations, read [here](https://suspensionsecrets.co.uk/adjust-tune-toe/).\n",
    "\n",
    "Ferrari's *pissed*! Ferrari's Sebastian Vettel has been heard saying \"*It looks obviously interesting. I guess the fact that they're running with it means that it's legal, but I don't know, it's called a steering wheel, not a push-or-pull wheel...*\". \n",
    "\n",
    "It's not a very well-kept secret that the italians use their [Cosmo SkyMed](https://www.france24.com/en/20091209-europe%E2%80%99-spy-satellites-take-us-might-skies) spy satellite to track Lewis Hamilton's car during practice runs.\n",
    "\n",
    "F1 [telemetry](https://jalopnik.com/formula-one-telemetry-explained-1845819678) is a real thing. [Steering wheels](https://www.mercedesamgf1.com/en/news/2020/08/mercedes-f1-steering-wheel-explained/) store metrics or even share them over wifi in real time with technical expert. Teams measure deltas, or the difference between one data point and another. So, when we talk about lap time deltas between Sebastian Vettel and Charles Leclerc, we’re talking about the difference in time between their laps. The line you add to that graph will also correspond directly to areas of the track where your teammate is faster or slower. If Vettel is losing tons of time on turn four, you can see that, then look at all the other data coming in before and during turn four to see what’s going on—maybe it’s a braking problem, or maybe Vettel should change his line.\n",
    "\n",
    "<br />\n",
    "<center>\n",
    "    <img src=\"ipynb.images/mercedes-f1-steering.jpg\" width=400 />\n",
    "</center>\n",
    "\n",
    "Yours truly has some highly-placed friends in Italy. They have shared with me some of the spy satelite's data. Specifically, the number of practice drives where Lewis' car beats other cars in turn prowess (faster turn performance), leading to pole positions in practice runs (F1 teams practice like they compete). We are going to use this data to find if there is any correlation between his performance and when Mercedes started using the DAS system.\n",
    "\n",
    "First, download `mcmc.zip` from blackboard, unzip `mercedes-f1.csv` and the two other images it contains a new folder called `data` in your Users folder. \n",
    "\n",
    "You can leverage linux commands either through `!` or *magic commands* which start with `%`. Use `%pwd` to check your current directory and `%cd /Enter/your/prefered/path/here/` to change it. It should be `Users\\<username>`. Then run the following script:\n",
    "\n",
    "```python\n",
    "from IPython.core.pylabtools import figsize\n",
    "figsize(12.5, 3.5)\n",
    "count_data = np.loadtxt(\"data/mercedes-f1.csv\")\n",
    "n_count_data = len(count_data)\n",
    "plt.bar(np.arange(n_count_data), count_data, color=\"#348ABD\")\n",
    "plt.xlabel(\"Time (days)\")\n",
    "plt.ylabel(\"count of pole-wins\")\n",
    "plt.title(\"Did Lewis' steering performance change over time?\")\n",
    "plt.xlim(0, n_count_data);\n",
    "```"
   ]
  },
  {
   "cell_type": "code",
   "execution_count": 22,
   "metadata": {},
   "outputs": [
    {
     "data": {
      "image/png": "[encoded data removed]",
      "text/plain": [
       "<Figure size 900x252 with 1 Axes>"
      ]
     },
     "metadata": {
      "needs_background": "light"
     },
     "output_type": "display_data"
    }
   ],
   "source": [
    "from IPython.core.pylabtools import figsize\n",
    "figsize(12.5, 3.5)\n",
    "count_data = np.loadtxt(\"data/mercedes-f1.csv\")\n",
    "n_count_data = len(count_data)\n",
    "plt.bar(np.arange(n_count_data), count_data, color=\"#348ABD\")\n",
    "plt.xlabel(\"Time (days)\")\n",
    "plt.ylabel(\"count of pole-wins\")\n",
    "plt.title(\"Did Lewis' steering performance change over time?\")\n",
    "plt.xlim(0, n_count_data);"
   ]
  },
  {
   "cell_type": "markdown",
   "metadata": {},
   "source": [
    "Before we start modeling this data (more exactly, the process underlying this data), see what you can figure out just by looking at the chart above. Would you say there was a change in performance during this time period? \n",
    "\n",
    "<center>\n",
    "    <img src=\"ipynb.images/garfield.jpg\" width=150 />\n",
    "</center>\n",
    "\n",
    "How can we start to model this? A Poisson random variable is a more appropriate model for this type of *count* data, since count is discrete and count cannot go to infinity and is bounded by the most pole wins awarded in one day. Denoting Lewis' day $i$'s pole count by $C_i$, \n",
    "\n",
    "$$ C_i \\sim \\text{Poisson}(\\lambda)  $$\n",
    "\n",
    "We are not sure what the value of the $\\lambda$ parameter really is, however. Looking at the chart above, it appears that the rate might become higher later in the observation period, which is equivalent to saying that $\\lambda$ increases at some point during the observations (for discrete processes, expectation is equal to $\\lambda$; thus a higher value of $\\lambda$ assigns higher probability to larger outcomes. That is, there is a higher probability of more pole counts on a given day).\n",
    "\n",
    "How can we represent this observation mathematically? Let's build a model! \n",
    "\n",
    "<center>\n",
    "    <img src=\"ipynb.images/buildmodel.png\" width=400 />\n",
    "</center>\n",
    "\n",
    "Let's assume that on some day during the observation period (call it $\\tau$), the parameter $\\lambda$ suddenly jumps to a higher value, because of `DAS`, yikes! So we really have two $\\lambda$ parameters: one for the period before $\\tau$, and one for the rest of the observation period. In literature, a sudden transition like this is called a *switchpoint*; values of $\\lambda$ before $\\tau$ are called *prior* distributions, and values after, *posterior*.\n",
    "\n",
    "$$\n",
    "\\lambda = \n",
    "\\begin{cases}\n",
    "\\lambda_1  & \\text{if } t \\lt \\tau \\cr\n",
    "\\lambda_2 & \\text{if } t \\ge \\tau\n",
    "\\end{cases}\n",
    "$$\n",
    "\n",
    "If, in reality, no sudden change occurred and indeed $\\lambda_1 = \\lambda_2$, then the $\\lambda$s posterior distributions should look about equal.\n",
    "\n",
    "We are interested in inferring the unknown $\\lambda$s. To use Bayesian inference, we need to assign prior probabilities to the different possible values of $\\lambda$. What would be good prior probability distributions for $\\lambda_1$ and $\\lambda_2$? Recall that $\\lambda$ can be any positive number. As we saw earlier, the *exponential* distribution provides a continuous density function for positive numbers, so it might be a good choice for modeling $\\lambda_i$. \n",
    "\n",
    "<span style=\"color:red\">Don't get confused.. we are still using the Poisson distribution for modeling the distribution of pole wins awarded to Lewis during practice runs, but we will use the exponential distribution for modeling the $\\lambda$ of the Poisson distribution. Oh my!</span>\n",
    "\n",
    "Recall that the exponential distribution takes a parameter of its own, so we'll need to include that parameter in our model. Let's call that parameter $\\alpha$. Remember, model parameters are always denoted by *greek* letters.\n",
    "\n",
    "\\begin{align}\n",
    "&\\lambda_1 \\sim \\text{Exp}( \\alpha ) \\\\\\\n",
    "&\\lambda_2 \\sim \\text{Exp}( \\alpha )\n",
    "\\end{align}\n",
    "\n",
    "$\\alpha$ is called a *hyper-parameter* or *parent variable*. In literal terms, it is a parameter that influences other parameters. \n",
    "\n",
    "Our initial guess at $\\alpha$ should not influence the model too strongly, and we should have some flexibility in our choice.  A good hyperparameter rule of thumb is to set the exponential parameter equal to the inverse of the average of the count data. Since we're modeling $\\lambda$ using an exponential distribution, we can use the expected value identity shown earlier to get:\n",
    "\n",
    "$$\\frac{1}{N}\\sum_{i=0}^N \\;C_i \\approx E\\;[\\; \\lambda \\; |\\; \\alpha ] = \\frac{1}{\\alpha}$$ \n",
    "\n",
    "A sound (er?) alternative would be to have *two* priors: one for each $\\lambda_i$. Creating two exponential distributions with different $\\alpha$ values reflects our prior belief that the rate changed at some point during the observations.\n",
    "\n",
    "What about $\\tau$? Because of the noisiness of the data, it's difficult to pick out a priori when $\\tau$ might have occurred. Instead, we can assign a *uniform prior belief* to every possible day. This is equivalent to saying\n",
    "\n",
    "\\begin{align}\n",
    "& \\tau \\sim \\text{DiscreteUniform(1, 70) }\\\\\\\\\n",
    "& \\Rightarrow P( \\tau = k ) = \\frac{1}{70}\n",
    "\\end{align}\n",
    "\n",
    "We now turn to `PyMC3`. "
   ]
  },
  {
   "cell_type": "code",
   "execution_count": 15,
   "metadata": {},
   "outputs": [],
   "source": [
    "import pymc3 as pm\n",
    "import theano.tensor as tt\n",
    "\n",
    "with pm.Model() as model:\n",
    "    alpha = 1.0/count_data.mean()  # Recall count_data is the\n",
    "                                   # variable that holds our txt counts\n",
    "    lambda_1 = pm.Exponential(\"lambda_1\", alpha)\n",
    "    lambda_2 = pm.Exponential(\"lambda_2\", alpha)\n",
    "\n",
    "    tau = pm.DiscreteUniform(\"tau\", lower=0, upper=n_count_data - 1)"
   ]
  },
  {
   "cell_type": "markdown",
   "metadata": {},
   "source": [
    "In the code above, we create the PyMC3 variables corresponding to $\\lambda_1$ and $\\lambda_2$. We assign them to PyMC3's *stochastic variables*, so-called because they are treated by the back end as random number generators. And we hope we get no errors, because there is serious computation going on here, so please be patient. Then, run the following.."
   ]
  },
  {
   "cell_type": "code",
   "execution_count": 16,
   "metadata": {},
   "outputs": [],
   "source": [
    "with model:\n",
    "    idx = np.arange(n_count_data) # Index\n",
    "    lambda_ = pm.math.switch(tau > idx, lambda_1, lambda_2)"
   ]
  },
  {
   "cell_type": "markdown",
   "metadata": {},
   "source": [
    "This code creates a new function `lambda_`, but really we can think of it as a random variable: the random variable $\\lambda$ from above. The `switch()` function assigns `lambda_1` or `lambda_2` as the value of `lambda_`, depending on what side of `tau` we are on. The values of `lambda_` up until `tau` are `lambda_1` and the values afterwards are `lambda_2`.\n",
    "\n",
    "Note that because `lambda_1`, `lambda_2` and `tau` are random, `lambda_` will be random. We are **not** fixing any variables yet."
   ]
  },
  {
   "cell_type": "code",
   "execution_count": 17,
   "metadata": {},
   "outputs": [],
   "source": [
    "with model:\n",
    "    observation = pm.Poisson(\"obs\", lambda_, observed=count_data)"
   ]
  },
  {
   "cell_type": "markdown",
   "metadata": {},
   "source": [
    "The variable `observation` combines our data, `count_data`, with our proposed data-generation scheme, given by the variable `lambda_`, through the `observed` keyword. \n",
    "\n",
    "The code below is a *learning* step. It's really a machine learning method. The machinery employed is called *Markov Chain Monte Carlo* (MCMC). This technique returns thousands of random variables from the posterior distributions of $\\lambda_1, \\lambda_2$ and $\\tau$. \n",
    "\n",
    "The [Metropolis–Hastings](https://en.wikipedia.org/wiki/Metropolis%E2%80%93Hastings_algorithm)\n",
    "algorithm is a Markov chain Monte Carlo (MCMC) method for obtaining a sequence of random\n",
    "samples from a probability distribution for which direct sampling is difficult.\n",
    "\n",
    "As we know, the algorithm was named after Nicholas Metropolis, who was an author along with Edward Teller of the 1953 paper [Equation of State Calculations by Fast Computing Machines](https://bayes.wustl.edu/Manual/EquationOfState.pdf), which first proposed\n",
    "the algorithm for the case of symmetrical proposal distributions, and W. K. Hastings who extended it\n",
    "to the more general case in 1970. \n",
    "\n",
    "Nicholas Metropolis had already coined the term \"Monte Carlo\" in an earlier paper with Stanislav Ulam, was intimately familiar with the computational aspects of the method and also lead the group that designed and built the [MANIAC I](https://en.wikipedia.org/wiki/MANIAC_I) computer in 1952, which was used in the experiments. MANIAC 1 could be thought of as the first Data Science computer.\n",
    "\n",
    "We plot a histogram of the random variables to see what the posterior distributions look like. Below, we collect the samples (called *traces* in the MCMC literature) into histograms. \n",
    "\n",
    "Depending on the step size you pick below as parameters to `pm.sample`, this code could potentially crash your Jupyter kernel."
   ]
  },
  {
   "cell_type": "code",
   "execution_count": 18,
   "metadata": {},
   "outputs": [
    {
     "name": "stderr",
     "output_type": "stream",
     "text": [
      "Sequential sampling (2 chains in 1 job)\n",
      "CompoundStep\n",
      ">Metropolis: [tau]\n",
      ">Metropolis: [lambda_2]\n",
      ">Metropolis: [lambda_1]\n",
      "Sampling chain 0, 0 divergences: 100%|██████████| 5000/5000 [00:03<00:00, 1408.06it/s]\n",
      "Sampling chain 1, 0 divergences: 100%|██████████| 5000/5000 [00:03<00:00, 1638.94it/s]\n",
      "The number of effective samples is smaller than 10% for some parameters.\n"
     ]
    }
   ],
   "source": [
    "### Metropolis-Hastings simulation\n",
    "with model:\n",
    "    step = pm.Metropolis()\n",
    "    trace = pm.sample(4000, tune=1000, step=step, cores = 1)"
   ]
  },
  {
   "cell_type": "markdown",
   "metadata": {},
   "source": [
    "If you crashed, you should have a yellow `connecting to kernel` or red `stopped` status bar at the top of your notebook. That means you are *hosed* and will not be able to execute any more cells. Oh well.. nice try.. go watch an episode of GoT and come back and.. replace your pm.sample() call with:\n",
    "```python\n",
    "trace = pm.sample(3000, tune=800, step=step, cores = 1)\n",
    "```\n",
    "Some other things to try is to reduce 4000 and the `tune` parameter even more.. but then your algorithm might not converge, so find a point at which it works but does nto converge, and keep increasing the parameters untill Metroplois converges. Then carry on.."
   ]
  },
  {
   "cell_type": "code",
   "execution_count": 19,
   "metadata": {},
   "outputs": [],
   "source": [
    "lambda_1_samples = trace['lambda_1']\n",
    "lambda_2_samples = trace['lambda_2']\n",
    "tau_samples = trace['tau']"
   ]
  },
  {
   "cell_type": "markdown",
   "metadata": {},
   "source": [
    "Now we are ready to plot the posterior distributions of our model parameters:"
   ]
  },
  {
   "cell_type": "code",
   "execution_count": 20,
   "metadata": {},
   "outputs": [
    {
     "name": "stderr",
     "output_type": "stream",
     "text": [
      "d:\\Anaconda3.5.1\\lib\\site-packages\\ipykernel_launcher.py:8: MatplotlibDeprecationWarning: \n",
      "The 'normed' kwarg was deprecated in Matplotlib 2.1 and will be removed in 3.1. Use 'density' instead.\n",
      "  \n",
      "d:\\Anaconda3.5.1\\lib\\site-packages\\ipykernel_launcher.py:18: MatplotlibDeprecationWarning: \n",
      "The 'normed' kwarg was deprecated in Matplotlib 2.1 and will be removed in 3.1. Use 'density' instead.\n"
     ]
    },
    {
     "data": {
      "image/png": "[encoded data removed]",
      "text/plain": [
       "<Figure size 900x720 with 3 Axes>"
      ]
     },
     "metadata": {
      "needs_background": "light"
     },
     "output_type": "display_data"
    }
   ],
   "source": [
    "figsize(12.5, 10)\n",
    "#histogram of the samples:\n",
    "\n",
    "ax = plt.subplot(311)\n",
    "ax.set_autoscaley_on(False)\n",
    "\n",
    "plt.hist(lambda_1_samples, histtype='stepfilled', bins=30, alpha=0.85,\n",
    "         label=\"posterior of $\\lambda_1$\", color=\"#A60628\", normed=True)\n",
    "plt.legend(loc=\"upper left\")\n",
    "plt.title(r\"\"\"Posterior distributions of the variables\n",
    "    $\\lambda_1,\\;\\lambda_2,\\;\\tau$\"\"\")\n",
    "plt.xlim([15, 30])\n",
    "plt.xlabel(\"$\\lambda_1$ value\")\n",
    "\n",
    "ax = plt.subplot(312)\n",
    "ax.set_autoscaley_on(False)\n",
    "plt.hist(lambda_2_samples, histtype='stepfilled', bins=30, alpha=0.85,\n",
    "         label=\"posterior of $\\lambda_2$\", color=\"#7A68A6\", normed=True)\n",
    "plt.legend(loc=\"upper left\")\n",
    "plt.xlim([15, 30])\n",
    "plt.xlabel(\"$\\lambda_2$ value\")\n",
    "\n",
    "plt.subplot(313)\n",
    "w = 1.0 / tau_samples.shape[0] * np.ones_like(tau_samples)\n",
    "plt.hist(tau_samples, bins=n_count_data, alpha=1,\n",
    "         label=r\"posterior of $\\tau$\",\n",
    "         color=\"#467821\", weights=w, rwidth=2.)\n",
    "plt.xticks(np.arange(n_count_data))\n",
    "\n",
    "plt.legend(loc=\"upper left\")\n",
    "plt.ylim([0, .75])\n",
    "plt.xlim([35, len(count_data)-20])\n",
    "plt.xlabel(r\"$\\tau$ (in days)\")\n",
    "plt.ylabel(\"probability\");"
   ]
  },
  {
   "cell_type": "markdown",
   "metadata": {},
   "source": [
    "### Interpretation\n",
    "\n",
    "Recall that Bayesian methodology returns a *distribution*. Hence we now have distributions to describe the unknown $\\lambda$s and $\\tau$. What have we gained? Immediately, we can see the uncertainty in our estimates: the wider the distribution (the more choice of $\\lambda$), the less certain our posterior belief should be. But we can also see what the plausible values for the parameters are: $\\lambda_1$ should be around 18 and $\\lambda_2$ around 23. The posterior distributions of the two $\\lambda$s are clearly distinct, indicating that it is *indeed likely* that there was a change in Lewis' performance.\n",
    "\n",
    "Notice also that the posterior distributions for the $\\lambda$s do not look like exponential distributions, even though our priors for these variables were exponential. In fact, the posterior distributions are not really of any form that we recognize from the original model. They look like normal distributions! It leads me to believe that I should have picked normal distributions for these priors. But if I do and get the same result, it;s ok! This is one of the benefits of taking a computational point of view. If we had instead done this analysis using mathematical approaches, we would have been stuck with an analytically intractable position. Our use of a computational approach makes us indifferent to mathematical tractability.\n",
    "\n",
    "Our analysis also returned a distribution for $\\tau$. Its posterior distribution looks a little different from the other two because it is a *discrete* random variable, so it doesn't assign probabilities to intervals. We can see that near day 45, there is a close to 50% chance that Lewis performance improved! Had no change occurred, or had the change been gradual over time, the posterior distribution of $\\tau$ would have been more spread out, reflecting that many days were plausible candidates for $\\tau$. By contrast, in the actual results we see that only three or four days make any sense as potential transition points. \n",
    "\n",
    "Nice! (well, not very nice for Ferrarri..)"
   ]
  },
  {
   "cell_type": "markdown",
   "metadata": {},
   "source": [
    "### Why do I want to sample the posterior, anyways?\n",
    "\n",
    "We use posterior sampling to answer the following question: what is the expected number of pole wins at day $t, \\; 0 \\le t \\le 70$ ? Recall that the expected value of a Poisson variable is equal to its parameter $\\lambda$. Therefore, the question is equivalent to *what is the expected value of $\\lambda$ at time $t$*?\n",
    "\n",
    "In the code below, let $i$ index samples from the posterior distributions. Given a day $t$, we average over all possible $\\lambda_i$ for that day $t$, using $\\lambda_i = \\lambda_{1,i}$ if $t \\lt \\tau_i$ (that is, if the behaviour change has not yet occurred), else we use $\\lambda_i = \\lambda_{2,i}$."
   ]
  },
  {
   "cell_type": "code",
   "execution_count": 21,
   "metadata": {},
   "outputs": [
    {
     "data": {
      "image/png": "[encoded data removed]",
      "text/plain": [
       "<Figure size 900x360 with 1 Axes>"
      ]
     },
     "metadata": {
      "needs_background": "light"
     },
     "output_type": "display_data"
    }
   ],
   "source": [
    "figsize(12.5, 5)\n",
    "# tau_samples, lambda_1_samples, lambda_2_samples contain\n",
    "# N samples from the corresponding posterior distribution\n",
    "N = tau_samples.shape[0]\n",
    "expected_poles_per_day = np.zeros(n_count_data)\n",
    "for day in range(0, n_count_data):\n",
    "    # ix is a bool index of all tau samples corresponding to\n",
    "    # the switchpoint occurring prior to value of 'day'\n",
    "    ix = day < tau_samples\n",
    "    # Each posterior sample corresponds to a value for tau.\n",
    "    # for each day, that value of tau indicates whether we're \"before\"\n",
    "    # (in the lambda1 \"regime\") or\n",
    "    #  \"after\" (in the lambda2 \"regime\") the switchpoint.\n",
    "    # by taking the posterior sample of lambda1/2 accordingly, we can average\n",
    "    # over all samples to get an expected value for lambda on that day.\n",
    "    # As explained, the \"message count\" random variable is Poisson distributed,\n",
    "    # and therefore lambda (the poisson parameter) is the expected value of\n",
    "    # \"message count\".\n",
    "    expected_poles_per_day[day] = (lambda_1_samples[ix].sum()\n",
    "                                   + lambda_2_samples[~ix].sum()) / N\n",
    "\n",
    "\n",
    "plt.plot(range(n_count_data), expected_poles_per_day, lw=4, color=\"#E24A33\",\n",
    "         label=\"expected number of pole positions\")\n",
    "plt.xlim(0, n_count_data)\n",
    "plt.xlabel(\"Day\")\n",
    "plt.ylabel(\"Expected # pole positions\")\n",
    "plt.title(\"Expected number of pole positions recorded by Lewis Hamilton\")\n",
    "plt.ylim(0, 60)\n",
    "plt.bar(np.arange(len(count_data)), count_data, color=\"#348ABD\", alpha=0.65,\n",
    "        label=\"observed poles per day\")\n",
    "\n",
    "plt.legend(loc=\"upper left\");"
   ]
  },
  {
   "cell_type": "markdown",
   "metadata": {},
   "source": [
    "Your analysis shows strong support for believing Lewis' performance *did* improve ($\\lambda_1$ would have been close in value to $\\lambda_2$ had this not been true) at day 45, and that the change was sudden rather than gradual (as demonstrated by $\\tau$'s strongly peaked posterior distribution). Which implies that DAS seems to be working!\n",
    "\n",
    ">**Note**: But more importantly, nowhere in my analysis did I ever inject any *bias* in my model! That is what being a modern data scientist si all about. One day, maybe you will help devise the algorithms to program robocops, and your data scientist career was born with INFO 6105!\n",
    "\n",
    ">**Note**: It is also interesting that you don't really have to scan for *content* to figure out dynamics involving content. You can just use probability and statistics and start *counting* to unearth events. This is how, for example, US government could be running its domestic (and probably foreign, too) surveillance program. It does not need to spy on your cell phone conversations, but it most certainly catalogues the *amount* of texts and phone calls and can probably trace their origin and in some cases connect you to potentially *shady* characters, and *then* start surveilling your messages and conversations...\n",
    "\n",
    "And as far as Ferrari is concerned..\n",
    "\n",
    "<center>\n",
    "    <img src=\"ipynb.images/cry.png\" width=200 />\n",
    "</center>"
   ]
  },
  {
   "cell_type": "markdown",
   "metadata": {},
   "source": [
    "## Conclusion\n",
    "\n",
    "The most difficult part of Bayesian estimation is the part that models the parameters of the pdf you picked as your model as pdfs themselves. \n",
    "\n",
    "You might think that it's picking the right statistical profile that matches the histogram of the dataset, but that's usually not that hard. Picking the shape of the pdf for each model parameter is *harder* because you don't have a physical profile to match! \n",
    "\n",
    "And then, you also need to pick initial conditions for these parameters!\n",
    "\n",
    "It's all about experience! If you ***make the right choices*** (and that is often the *art* behind Bayesian inference), then Bayesian packages like `PyMc3` will do all the work for you, and you will get a good **model** of your dataset, and then you can throw away all the historical data and use that model to do predictions.\n",
    "\n",
    "Machine Learning is similar to Bayesian estimation in that you need to guess a lot of hyperparameters for the machine model (this is why yours truly loves Random forests because there are so few associated hyperparameters). \n",
    "\n",
    "Most ML algorithms however won't yield estimations of the guessing error, which Bayesian estimation methods ***do*** yield. And that becomes very important when a machine tells you to do something ***scary***. *Ummm... are you sure you want me to accelerate to 120 mph? What's the statistical error in your prediction?* \n",
    "\n",
    "You want to be able to ask these questions from machines! And that is why ***Bayesian*** ML is, today, the state of the art in ML."
   ]
  },
  {
   "cell_type": "markdown",
   "metadata": {},
   "source": [
    "## References and Resources\n",
    "\n",
    "- Goodman, S. N. (1999). Toward evidence-based medical statistics. 1: The P value fallacy. Annals of Internal Medicine, 130(12), 995–1004. http://doi.org/10.7326/0003-4819-130-12-199906150-00008\n",
    "- Johnson, D. (1999). The insignificance of statistical significance testing. Journal of Wildlife Management, 63(3), 763–772.\n",
    "- Gelman, A., Carlin, J. B., Stern, H. S., Dunson, D. B., Vehtari, A., & Rubin, D. B. (2013). Bayesian Data Analysis, Third Edition. CRC Press.\n",
    "-  Norvig, Peter. 2009. [The Unreasonable Effectiveness of Data](http://static.googleusercontent.com/media/research.google.com/en//pubs/archive/35179.pdf).\n",
    "- Salvatier, J, Wiecki TV, and Fonnesbeck C. (2016) Probabilistic programming in Python using PyMC3. *PeerJ Computer Science* 2:e55 <https://doi.org/10.7717/peerj-cs.55>\n",
    "- Cronin, Beau. \"Why Probabilistic Programming Matters.\" 24 Mar 2013. Google, Online Posting to Google . Web. 24 Mar. 2013. <https://plus.google.com/u/0/107971134877020469960/posts/KpeRdJKR6Z1>."
   ]
  }
 ],
 "metadata": {
  "kernelspec": {
   "display_name": "Python 3 (ipykernel)",
   "language": "python",
   "name": "python3"
  },
  "language_info": {
   "codemirror_mode": {
    "name": "ipython",
    "version": 3
   },
   "file_extension": ".py",
   "mimetype": "text/x-python",
   "name": "python",
   "nbconvert_exporter": "python",
   "pygments_lexer": "ipython3",
   "version": "3.9.7"
  }
 },
 "nbformat": 4,
 "nbformat_minor": 2
}
