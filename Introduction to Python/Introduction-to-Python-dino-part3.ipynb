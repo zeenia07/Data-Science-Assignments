{
 "cells": [
  {
   "cell_type": "markdown",
   "metadata": {},
   "source": [
    "<div style=\"text-align: right\">INFO 6105 Data Science Eng Methods and Tools, Lecture 2 Day 2</div>\n",
    "<div style=\"text-align: right\">Dino Konstantopoulos, 27 January 2022</div>\n",
    "\n",
    "## A brief introduction to *Object Oriented programming* in Python "
   ]
  },
  {
   "cell_type": "markdown",
   "metadata": {},
   "source": [
    "***Object Oriented programming*** is exactly what scientists hate, and one of the reasons they love Python is that Python does not force you into Object Oriented mode, unless you really want to. So if you really want to, here it is :-)\n",
    "\n",
    "Here is the most important knowledge in Object Oriented programming:\n",
    "- An **object** is an instance of a **class**\n",
    "- A **class** is the blueprint of an **object**\n",
    "\n",
    "In Python, we subclass from ```object``` to get a ```class```.\n",
    "\n",
    "`__init__` is basic initializer, this is called when this class is instantiated.\n",
    "\n",
    "Note that the double leading and trailing underscores denote objects\n",
    "or attributes that are used by python but that live in user-controlled\n",
    "namespaces. You should not invent such names on your own.\n",
    "\n",
    "`say` is an **instance method**. All methods take `self` as the first argument.\n",
    "\n",
    "All methods decorated with `@classmethod` are class methods, shared among all instances of the class. They are called with the calling class as the first argument.\n",
    "\n",
    "**Static methods** are called without a class or instance reference\n",
    "\n",
    "A property is just like a getter. It turns the method `age()` into an read-only attribute of the same name."
   ]
  },
  {
   "cell_type": "code",
   "execution_count": null,
   "metadata": {},
   "outputs": [],
   "source": [
    "class Human(object):\n",
    "    # A class attribute. It is shared by all instances of this class\n",
    "    species = \"H. sapiens\"\n",
    "\n",
    "    def __init__(self, name):\n",
    "        # Assign the argument to the instance's name attribute\n",
    "        self.name = name\n",
    "\n",
    "        # Initialize property\n",
    "        self.age = 0\n",
    "        \n",
    "    def say(self, msg):\n",
    "        return \"{0}: {1}\".format(self.name, msg)\n",
    "\n",
    "    @classmethod\n",
    "    def get_species(cls):\n",
    "        return cls.species\n",
    "\n",
    "    @staticmethod\n",
    "    def grunt():\n",
    "        return \"*grunt*\"\n",
    "\n",
    "    @property\n",
    "    def age(self):\n",
    "        return self._age\n",
    "\n",
    "    # This allows the property to be set\n",
    "    @age.setter\n",
    "    def age(self, age):\n",
    "        self._age = age\n",
    "\n",
    "    # This allows the property to be deleted\n",
    "    @age.deleter\n",
    "    def age(self):\n",
    "        del self._age"
   ]
  },
  {
   "cell_type": "markdown",
   "metadata": {},
   "source": [
    "Instantiate a class into objects:"
   ]
  },
  {
   "cell_type": "code",
   "execution_count": null,
   "metadata": {},
   "outputs": [],
   "source": [
    "d = Human(name=\"Xinlin\")\n",
    "print (d.say(\"hi\"))  # prints out \"Ian: hi\"\n",
    "\n",
    "a = Human(\"Dino\")\n",
    "print (a.say(\"hello\"))  # prints out \"Joel: hello\""
   ]
  },
  {
   "cell_type": "markdown",
   "metadata": {},
   "source": [
    "Call our class method:"
   ]
  },
  {
   "cell_type": "code",
   "execution_count": null,
   "metadata": {},
   "outputs": [],
   "source": [
    "a.get_species()  # => \"H. sapiens\""
   ]
  },
  {
   "cell_type": "markdown",
   "metadata": {},
   "source": [
    "Change the shared attribute"
   ]
  },
  {
   "cell_type": "code",
   "execution_count": null,
   "metadata": {},
   "outputs": [],
   "source": [
    "i = Human\n",
    "j = Human"
   ]
  },
  {
   "cell_type": "code",
   "execution_count": null,
   "metadata": {},
   "outputs": [],
   "source": [
    "Human.species = \"H. neanderthalensis\"\n",
    "i.get_species()  # => \"H. neanderthalensis\"\n",
    "j.get_species()  # => \"H. neanderthalensis\""
   ]
  },
  {
   "cell_type": "markdown",
   "metadata": {},
   "source": [
    "Call the static method:"
   ]
  },
  {
   "cell_type": "code",
   "execution_count": null,
   "metadata": {},
   "outputs": [],
   "source": [
    "Human.grunt()  # => \"*grunt*\""
   ]
  },
  {
   "cell_type": "markdown",
   "metadata": {},
   "source": [
    "Play with properties:"
   ]
  },
  {
   "cell_type": "code",
   "execution_count": null,
   "metadata": {},
   "outputs": [],
   "source": [
    "# Update the property\n",
    "i.age = 142\n",
    "\n",
    "# Get the property\n",
    "i.age  # => 142\n",
    "\n",
    "# Delete the property\n",
    "del i.age\n",
    "i.age  # => raises an AttributeError"
   ]
  },
  {
   "cell_type": "markdown",
   "metadata": {},
   "source": [
    "Now we're done :-)\n",
    "\n",
    "<br />\n",
    "<center>\n",
    "<img src = ipynb.images/tree-sloth.jpg width = 600 />\n",
    "</center>"
   ]
  }
 ],
 "metadata": {
  "kernelspec": {
   "display_name": "Python 3",
   "language": "python",
   "name": "python3"
  },
  "language_info": {
   "codemirror_mode": {
    "name": "ipython",
    "version": 3
   },
   "file_extension": ".py",
   "mimetype": "text/x-python",
   "name": "python",
   "nbconvert_exporter": "python",
   "pygments_lexer": "ipython3",
   "version": "3.6.9"
  }
 },
 "nbformat": 4,
 "nbformat_minor": 1
}
